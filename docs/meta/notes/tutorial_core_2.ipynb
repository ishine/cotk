{
  "nbformat": 4,
  "nbformat_minor": 0,
  "metadata": {
    "colab": {
      "name": "Untitled0.ipynb",
      "version": "0.3.2",
      "provenance": [],
      "collapsed_sections": []
    },
    "kernelspec": {
      "name": "python3",
      "display_name": "Python 3"
    }
  },
  "cells": [
    {
      "cell_type": "code",
      "metadata": {
        "id": "k4iaR9TN9q-a",
        "colab_type": "code",
        "outputId": "7252e87f-bada-4368-8f4e-3f994210fa21",
        "colab": {
          "base_uri": "https://localhost:8080/",
          "height": 1000
        }
      },
      "source": [
        "!rm -rf test && mkdir -p test && cd test && git clone https://github.com/thu-coai/cotk.git && pip3 install ./cotk\n",
        "!pip install livelossplot"
      ],
      "execution_count": 1,
      "outputs": [
        {
          "output_type": "stream",
          "text": [
            "Cloning into 'cotk'...\n",
            "Processing ./cotk\n",
            "Successfully installed checksumdir-1.1.6 cotk-0.0.1.dev20190711 nltk-3.4.4 tqdm-4.32.2\n",
            "Collecting livelossplot\n",
            "Installing collected packages: livelossplot\n",
            "Successfully installed livelossplot-0.4.1\n"
          ],
          "name": "stdout"
        }
      ]
    },
    {
      "cell_type": "code",
      "metadata": {
        "id": "wXPYm7SA8zbP",
        "colab_type": "code",
        "outputId": "fdd2be8a-dfeb-418a-fb35-fb7864bc2b8e",
        "colab": {
          "base_uri": "https://localhost:8080/",
          "height": 363
        }
      },
      "source": [
        "  from cotk.dataloader import MSCOCO\n",
        "  from pprint import pprint\n",
        "  dataloader = MSCOCO(\"resources://MSCOCO_small\") # \"resources://MSCOCO_small\" is a predefined resources name\n",
        "  print(\"Vocab Size:\", dataloader.vocab_size)\n",
        "  print(\"First 10 tokens:\",  dataloader.vocab_list[:10])\n",
        "  print(\"Dataset is split into:\", dataloader.key_name)\n",
        "  data = dataloader.get_batch(\"train\", [0]) # get the sample of id 0\n",
        "  pprint(data, width=200)\n",
        "  print(dataloader.convert_ids_to_tokens(data['sent'][0]))"
      ],
      "execution_count": 2,
      "outputs": [
        {
          "output_type": "stream",
          "text": [
            "INFO: name: MSCOCO_small\n",
            "INFO: source: default\n",
            "INFO: processor type: MSCOCO\n",
            "INFO: MSCOCO_small exists in cache\n",
            "INFO: resource cached at /root/.cotk_cache/9e4c0afe33d98fa249e472206a39e5553d739234d0a27e055044ae8880e314b1_unzip/mscoco\n",
            "valid vocab list length = 2588\n",
            "vocab list length = 12411\n",
            "train set. invalid rate: 0.031716, unknown rate: 0.000000, max length before cut: 55, cut word rate: 0.000022\n",
            "dev set. invalid rate: 0.034089, unknown rate: 0.000000, max length before cut: 46, cut word rate: 0.000000\n",
            "test set. invalid rate: 0.031213, unknown rate: 0.000000, max length before cut: 27, cut word rate: 0.000000\n",
            "Vocab Size: 2588\n",
            "First 10 tokens: ['<pad>', '<unk>', '<go>', '<eos>', '.', 'a', 'A', 'on', 'of', 'in']\n",
            "Dataset is split into: ['train', 'dev', 'test']\n",
            "{'sent': array([[  2,   6,  67, 651, 549,  11,   5,  65,  89,  10, 115, 349,  83,\n",
            "          4,   3]]),\n",
            " 'sent_allvocabs': array([[  2,   6,  67, 651, 549,  11,   5,  65,  89,  10, 115, 349,  83,\n",
            "          4,   3]]),\n",
            " 'sent_length': array([15])}\n",
            "['<go>', 'A', 'blue', 'lamp', 'post', 'with', 'a', 'sign', 'for', 'the', 'yellow', 'brick', 'road', '.']\n"
          ],
          "name": "stdout"
        }
      ]
    },
    {
      "cell_type": "code",
      "metadata": {
        "id": "9TRnOwGq8-xf",
        "colab_type": "code",
        "colab": {}
      },
      "source": [
        "  import torch\n",
        "  from torch import nn\n",
        "\n",
        "  embedding_size = 20\n",
        "  hidden_size = 20\n",
        "\n",
        "  class LanguageModel(nn.Module):\n",
        "      def __init__(self):\n",
        "          super().__init__()\n",
        "          self.embedding_layer = nn.Embedding(dataloader.vocab_size, embedding_size)\n",
        "          self.rnn = nn.GRU(embedding_size, hidden_size, batch_first=True)\n",
        "          self.output_layer = nn.Linear(hidden_size, dataloader.vocab_size)\n",
        "          self.crossentropy = nn.CrossEntropyLoss()\n",
        "          \n",
        "          from cotk.wordvector import Glove\n",
        "          wordvec = Glove(\"resources://Glove50d_small\")\n",
        "          self.embedding_layer.weight = nn.Parameter(torch.Tensor(wordvec.load(embedding_size, dataloader.vocab_list)))\n",
        "\n",
        "      def forward(self, data):\n",
        "          # data is the dict returned by ``dataloader.get_batch``\n",
        "          sent = data['sent']\n",
        "          sent_length = data['sent_length']\n",
        "          # sent is a LongTensor whose shape is (batch_size, sent_length)\n",
        "          # sent_length is a list whose size is (batch_size)\n",
        "\n",
        "          incoming = self.embedding_layer(sent)\n",
        "          # incoming: (batch_size, sent_length, embedding_size)\n",
        "          incoming, _ = self.rnn(incoming)\n",
        "          # incoming: (batch_size, sent_length, hidden_size)\n",
        "          incoming = self.output_layer(incoming)\n",
        "          # incoming: (batch_size, sent_length, dataloader.vocab_size)\n",
        "\n",
        "          loss = []\n",
        "          for i, length in enumerate(sent_length):\n",
        "              if length > 1:\n",
        "                  loss.append(self.crossentropy(incoming[i, :length-1], sent[i, 1:length]))\n",
        "                  # every time step predict next token\n",
        "\n",
        "          data[\"gen_log_prob\"] = nn.LogSoftmax(dim=-1)(incoming)\n",
        "\n",
        "          if len(loss) > 0:\n",
        "             return torch.stack(loss).mean()\n",
        "          else:\n",
        "              return 0\n"
      ],
      "execution_count": 0,
      "outputs": []
    },
    {
      "cell_type": "code",
      "metadata": {
        "id": "1I0y3gzK81dG",
        "colab_type": "code",
        "outputId": "32905b93-2f34-4e88-960a-b956661b30c3",
        "colab": {
          "base_uri": "https://localhost:8080/",
          "height": 381
        }
      },
      "source": [
        "    from livelossplot import PlotLosses\n",
        "    import numpy as np\n",
        "\n",
        "    net = LanguageModel()\n",
        "    optimizer = torch.optim.Adam(net.parameters(), lr=5e-3)\n",
        "    epoch_num = 100\n",
        "    batch_size = 16\n",
        "    plot = PlotLosses()\n",
        "\n",
        "    for j in range(epoch_num):\n",
        "        loss_arr = []\n",
        "        for i, data in enumerate(dataloader.get_batches(\"train\", batch_size)):\n",
        "            # convert numpy to torch.LongTensor\n",
        "            data['sent'] = torch.LongTensor(data['sent'])\n",
        "            net.zero_grad()\n",
        "            loss = net(data)\n",
        "            loss_arr.append(loss.tolist())\n",
        "            loss.backward()\n",
        "            optimizer.step()\n",
        "            if i >= 40:\n",
        "                break # break for shorten time of an epoch\n",
        "        plot.update({\"loss\": np.mean(loss_arr)})\n",
        "        plot.draw()\n",
        "        print(\"epoch %d/%d\" % (j+1, epoch_num))"
      ],
      "execution_count": 4,
      "outputs": [
        {
          "output_type": "display_data",
          "data": {
            "image/png": "[encoded data removed]",
            "text/plain": [
              "<Figure size 864x576 with 1 Axes>"
            ]
          },
          "metadata": {
            "tags": []
          }
        },
        {
          "output_type": "stream",
          "text": [
            "loss:\n",
            "training   (min:    3.056, max:    6.445, cur:    3.172)\n",
            "epoch 100/100\n"
          ],
          "name": "stdout"
        }
      ]
    },
    {
      "cell_type": "code",
      "metadata": {
        "id": "9gOf0Qs083Xc",
        "colab_type": "code",
        "outputId": "1b5b8d08-f675-419d-c61c-7ee98d40bb5c",
        "colab": {
          "base_uri": "https://localhost:8080/",
          "height": 53
        }
      },
      "source": [
        "metric = dataloader.get_teacher_forcing_metric(gen_log_prob_key=\"gen_log_prob\")\n",
        "for i, data in enumerate(dataloader.get_batches(\"test\", batch_size)):\n",
        "    # convert numpy to torch.LongTensor\n",
        "    data['sent'] = torch.LongTensor(data['sent'])\n",
        "    with torch.no_grad():\n",
        "        net(data)\n",
        "    assert \"gen_log_prob\" in data\n",
        "    metric.forward(data)\n",
        "pprint(metric.close(), width=150)"
      ],
      "execution_count": 5,
      "outputs": [
        {
          "output_type": "stream",
          "text": [
            "test set restart, 78 batches and 2 left\n",
            "{'perplexity': 30.487945232812304, 'perplexity hashvalue': '4f101c2986f1fe10ce1d2197c3086d3659aec3e6495f381d67f00b4dbb40a538'}\n"
          ],
          "name": "stdout"
        }
      ]
    },
    {
      "cell_type": "code",
      "metadata": {
        "id": "4hMDvVyT85AG",
        "colab_type": "code",
        "outputId": "27370155-ec4d-4b6c-a89f-92bcf219d82c",
        "colab": {
          "base_uri": "https://localhost:8080/",
          "height": 436
        }
      },
      "source": [
        "metric = dataloader.get_inference_metric(gen_key=\"gen\")\n",
        "generate_sample_num = 1\n",
        "max_sent_length = 20\n",
        "\n",
        "for i in range(generate_sample_num):\n",
        "    # convert numpy to torch.LongTensor\n",
        "    data['sent'] = torch.LongTensor([[dataloader.go_id] for _ in range(batch_size)])\n",
        "    data['sent_length'] = np.array([1 for _ in range(batch_size)])\n",
        "    for j in range(max_sent_length):\n",
        "        with torch.no_grad():\n",
        "            net(data)\n",
        "            generated_token = torch.multinomial(data['gen_log_prob'].exp()[:, -1], 1)\n",
        "        data['sent'] = torch.cat([data['sent'], generated_token], dim=-1)\n",
        "\n",
        "    metric.forward({\"gen\": data['sent'][:, 1:].tolist()})\n",
        "pprint(metric.close(), width=250)"
      ],
      "execution_count": 6,
      "outputs": [
        {
          "output_type": "stream",
          "text": [
            "100%|██████████| 1000/1000 [00:00<00:00, 1028.00it/s]"
          ],
          "name": "stderr"
        },
        {
          "output_type": "stream",
          "text": [
            "{'bw-bleu': 0.04672408449806719,\n",
            " 'fw-bleu': 0.21161289087175142,\n",
            " 'fw-bw-bleu': 0.07654667768574586,\n",
            " 'fw-bw-bleu hashvalue': '3018dc317f82b6013f011c1f8ccd90c5affed710b7d7d06a7235cf455c233542',\n",
            " 'gen': [['A', 'man', '<unk>', 'horses', 'are', 'practicing', 'at', 'the', 'wild', '.'],\n",
            "         ['Two', 'guys', 'on', 'skis', 'gets', 'its', 'war', 'through', 'a', 'hill', '.'],\n",
            "         ['A', 'baseball', 'player', 'with', 'a', 'bat', 'over', 'an', 'airplane', '.'],\n",
            "         ['A', 'female', 'bird', 'is', 'eating', 'a', 'museum', 'low', 'on', 'it', '.'],\n",
            "         ['A', 'woman', 'are', 'running', 'with', '<unk>', 'tables', 'are', 'wearing', 'a', 'meal', '.'],\n",
            "         ['A', 'woman', 'holding', 'a', 'half', 'eaten', 'with', 'boxes', 'in', 'the', 'container', '.'],\n",
            "         ['Three', 'photos', 'in', 'a', 'black', 'some', 'vase', '.'],\n",
            "         ['A', 'cute', 'small', 'furry', 'giraffe', 'is', 'drives', 'through', 'a', 'ramp', '.'],\n",
            "         ['A', 'street', 'kitchen', 'with', 'lots', 'of', 'teddy', 'fries', '.'],\n",
            "         ['A', 'couple', 'of', 'people', 'taking', 'a', 'fabric', 'of', 'something', 'with', 'wall', '.'],\n",
            "         ['An', 'old', 'building', 'that', 'has', 'baggage', 'posing', 'with', 'fruit', 'in', 'a', 'lot', 'of', 'grass', '.'],\n",
            "         ['A', 'clean', 'bathroom', 'in', 'two', 'white', 'dessert', 'church', '.'],\n",
            "         ['People', 'standing', 'with', 'down', 'by', 'a', 'person', 'holding', 'a', 'frisbee', '.'],\n",
            "         ['<unk>', 'standing', 'in', 'a', 'large', 'gray', 'silly', 'paper', '.'],\n",
            "         ['Two', 'fish', 'and', 'child', 'way', 'sun', 'across', 'a', 'green', 'fence', '.'],\n",
            "         ['A', 'colored', 'truck', 'have', 'flowers', 'all', 'from', 'a', 'crowd', '.']],\n",
            " 'self-bleu': 0.04016232395740786,\n",
            " 'self-bleu hashvalue': '9f1121d3988ef4789943ef18c1c0b749eec0d8eee3f12270671605ce670225f6'}\n"
          ],
          "name": "stdout"
        },
        {
          "output_type": "stream",
          "text": [
            "\n"
          ],
          "name": "stderr"
        }
      ]
    },
    {
      "cell_type": "code",
      "metadata": {
        "id": "-aTlXelpTr5k",
        "colab_type": "code",
        "outputId": "3fe163b5-5315-4633-d522-10b64fba26a8",
        "colab": {
          "base_uri": "https://localhost:8080/",
          "height": 53
        }
      },
      "source": [
        "metric = dataloader.get_teacher_forcing_metric(gen_log_prob_key=\"gen_log_prob\")\n",
        "for i, data in enumerate(dataloader.get_batches(\"test\", batch_size)):\n",
        "    # convert numpy to torch.LongTensor\n",
        "    data['sent'] = torch.LongTensor(data['sent'])\n",
        "    with torch.no_grad():\n",
        "        net(data)\n",
        "    assert \"gen_log_prob\" in data\n",
        "    metric.forward(data)\n",
        "    if i >= 15: #ignore the following batches\n",
        "        break\n",
        "pprint(metric.close(), width=150)"
      ],
      "execution_count": 7,
      "outputs": [
        {
          "output_type": "stream",
          "text": [
            "test set restart, 78 batches and 2 left\n",
            "{'perplexity': 33.6496264311846, 'perplexity hashvalue': '3f9641fb8888a8cd85828992443353cacf28a24fe9ec710c384a90b14e2dd01c'}\n"
          ],
          "name": "stdout"
        }
      ]
    }
  ]
}